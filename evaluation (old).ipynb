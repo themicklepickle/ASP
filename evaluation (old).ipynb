{
 "metadata": {
  "language_info": {
   "codemirror_mode": {
    "name": "ipython",
    "version": 3
   },
   "file_extension": ".py",
   "mimetype": "text/x-python",
   "name": "python",
   "nbconvert_exporter": "python",
   "pygments_lexer": "ipython3",
   "version": "3.8.8"
  },
  "orig_nbformat": 2,
  "kernelspec": {
   "name": "python388jvsc74a57bd07e85ec9bf098c5427e45e2f632dcd4eeff803b007e1abd287d600879388709c1",
   "display_name": "Python 3.8.8 64-bit"
  },
  "metadata": {
   "interpreter": {
    "hash": "7e85ec9bf098c5427e45e2f632dcd4eeff803b007e1abd287d600879388709c1"
   }
  }
 },
 "nbformat": 4,
 "nbformat_minor": 2,
 "cells": [
  {
   "cell_type": "code",
   "execution_count": null,
   "metadata": {},
   "outputs": [],
   "source": [
    "from Tester import Tester\n",
    "\n",
    "tester = Tester()"
   ]
  },
  {
   "cell_type": "code",
   "execution_count": null,
   "metadata": {},
   "outputs": [],
   "source": [
    "tester.testRules(\"Feb25_49\", [True, False, True], False, 10)\n",
    "tester.testRules(\"blank\", [False, False, False], False, 10)\n",
    "tester.testRules(\"noEV\", [False, False, False], False, 10)"
   ]
  },
  {
   "cell_type": "code",
   "execution_count": null,
   "metadata": {},
   "outputs": [],
   "source": [
    "# RSev + RSev_int 225: Sun_Mar_14_07:27:37_PM_2021\n",
    "# RS + RSint 225: Sun_Mar_14_07:32:23_PM_2021\n",
    "\n",
    "tester.findBestGeneration([0, 0, 1], False, \"Sun_Mar_14_07:27:37_PM_2021\", \"lastPleaseEV\")\n",
    "tester.findBestGeneration([0, 0, 1], False, \"Sun_Mar_14_07:32:23_PM_2021\", \"lastPlease\")\n",
    "\n",
    "tester.getTopFitnessesPerGeneration(\"Sun_Mar_14_07:27:37_PM_2021\", \"sleepEV\")\n",
    "tester.getTopFitnessesPerGeneration(\"Sun_Mar_14_07:32:23_PM_2021\", \"sleep\")\n",
    "\n",
    "tester.addBestPoolInGeneration(49, \"averageEVSpeed\", \"Sun_Mar_14_07:27:37_PM_2021\", \"wassup\")\n",
    "tester.testRules(\"wassup\", [0, 0, 1], True, 1)\n",
    "\n",
    "tester.addBestPoolInGeneration(47, \"averageEVSpeed\", \"Sun_Mar_14_07:27:37_PM_2021\", \"wassup\")\n",
    "tester.testRules(\"wassup\", [0, 0, 1], True, 1)\n",
    "\n",
    "tester.testRules(\"blank\", [1, 0, 1], True, 1)"
   ]
  },
  {
   "cell_type": "code",
   "execution_count": null,
   "metadata": {},
   "outputs": [],
   "source": [
    "tester.getBestResultsPerGeneration(\"Sun_Mar_14_07:51:26_PM_2021\", \"RSev+RSev_int+UD3 (75)\")\n",
    "\n",
    "tester.findBestGeneration([0, 0, 1], False, \"Sun_Mar_14_09:03:06_PM_2021\", \"March15noEV\")\n",
    "\n",
    "tester.addBestPoolInGeneration(50, \"averageEVSpeed\", \"Sun_Mar_14_07:51:26_PM_2021\")\n",
    "tester.testRules(\"Sun_Mar_14_07:51:26_PM_2021\", [0, 0, 1], 1, 10)\n",
    "\n",
    "\n",
    "tester.testRules(\"blank\", [0, 0, 1], False, 1)\n",
    "\n",
    "tester.testRules(\"blank\", [True, False, True], False, 10)\n",
    "\n",
    "print(1, 0, 1)\n",
    "tester.testRules(\"Feb25_49\", [True, False, True], False, 10)\n",
    "tester.addBestPoolInGeneration(50, \"averageEVSpeed\", \"Sun_Mar_14_07:32:23_PM_2021\")\n",
    "tester.testRules(\"Sun_Mar_14_07:32:23_PM_2021\", [True, False, True], False, 1)\n",
    "\n",
    "tester.findBestGeneration([0, 0, 1], False, \"Sun_Mar_14_07:32:23_PM_2021\", \"lastPlease\")\n",
    "\n",
    "controls\n",
    "tester.testRules(\"noEV\", [True, False, True], False, 10)\n",
    "tester.testRules(\"blank\", [False, False, False], False, 10)\n",
    "print(\"—\"*80)\n",
    "\n",
    "tester.findBestIndivs(\"Sun_Feb_28_11:44:26_PM_2021\", \"old agent pool\")\n",
    "tester.findBestGeneration([False, False, True], False, \"Sun_Feb_28_11:44:26_PM_2021\", \"RSev_int+RSev+UD3\")\n",
    "\n",
    "tester.JSONToCSV(\"RSev_int+RSev+UD1\")\n",
    "\n",
    "tester.getTopFitnessesPerGeneration(\"Sun_Feb_28_11:44:26_PM_2021\", \"yo\")\n",
    "\n",
    "tester.findBestGeneration([True, False, True], False, \"Thu_Feb_25_10:02:43_PM_2021\", \"yikes\")"
   ]
  }
 ]
}